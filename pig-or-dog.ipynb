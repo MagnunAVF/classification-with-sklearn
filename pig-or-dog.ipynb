{
 "cells": [
  {
   "cell_type": "markdown",
   "metadata": {},
   "source": [
    "Add initial data"
   ]
  },
  {
   "cell_type": "code",
   "execution_count": 1,
   "metadata": {},
   "outputs": [
    {
     "name": "stdout",
     "output_type": "stream",
     "text": [
      "[[0, 1, 0], [0, 1, 1], [1, 1, 0], [0, 1, 1], [1, 0, 1], [1, 1, 1]]\n",
      "[1, 1, 1, 0, 0, 0]\n"
     ]
    }
   ],
   "source": [
    "# features (1 = yes ; 0 = no)\n",
    "# long haired?\n",
    "# shor legs?\n",
    "# bark?\n",
    "pig_1 = [0, 1, 0]\n",
    "pig_2 = [0, 1, 1]\n",
    "pig_3 = [1, 1, 0]\n",
    "\n",
    "dog_1 = [0, 1, 1]\n",
    "dog_2 = [1, 0, 1]\n",
    "dog_3 = [1, 1, 1]\n",
    "\n",
    "# 1 = pig ; 0 = dog\n",
    "data = [pig_1, pig_2, pig_3, dog_1, dog_2, dog_3]\n",
    "data_classes = [1, 1, 1, 0, 0, 0]\n",
    "\n",
    "print(data)\n",
    "print(data_classes)"
   ]
  },
  {
   "cell_type": "markdown",
   "metadata": {},
   "source": [
    "Create a model with initial data"
   ]
  },
  {
   "cell_type": "code",
   "execution_count": 2,
   "metadata": {},
   "outputs": [
    {
     "data": {
      "text/plain": [
       "LinearSVC(C=1.0, class_weight=None, dual=True, fit_intercept=True,\n",
       "          intercept_scaling=1, loss='squared_hinge', max_iter=1000,\n",
       "          multi_class='ovr', penalty='l2', random_state=None, tol=0.0001,\n",
       "          verbose=0)"
      ]
     },
     "execution_count": 2,
     "metadata": {},
     "output_type": "execute_result"
    }
   ],
   "source": [
    "from sklearn.svm import LinearSVC\n",
    "\n",
    "model = LinearSVC()\n",
    "model.fit(data, data_classes)"
   ]
  },
  {
   "cell_type": "markdown",
   "metadata": {},
   "source": [
    "Add unknown animals to predict\n"
   ]
  },
  {
   "cell_type": "code",
   "execution_count": 3,
   "metadata": {},
   "outputs": [
    {
     "name": "stdout",
     "output_type": "stream",
     "text": [
      "Correct predictions: \n",
      "2\n"
     ]
    }
   ],
   "source": [
    "unknown_animals = [[1, 1, 1], [1, 1, 0], [0, 1, 1]]\n",
    "predictions = model.predict(unknown_animals)\n",
    "predictions_classes = [0, 1, 1]\n",
    "correct_predictions = (predictions == predictions_classes).sum()\n",
    "\n",
    "print(\"Correct predictions: \")\n",
    "print(correct_predictions)"
   ]
  },
  {
   "cell_type": "markdown",
   "metadata": {},
   "source": [
    "Calculate accuracy score"
   ]
  },
  {
   "cell_type": "code",
   "execution_count": 5,
   "metadata": {},
   "outputs": [
    {
     "name": "stdout",
     "output_type": "stream",
     "text": [
      "Taxa de acerto  66.66666666666666\n"
     ]
    }
   ],
   "source": [
    "unknown_animals_total = len(unknown_animals)\n",
    "accuracy_score = correct_predictions/unknown_animals_total\n",
    "print(\"Accuracy score = \", accuracy_score *100)"
   ]
  },
  {
   "cell_type": "code",
   "execution_count": null,
   "metadata": {},
   "outputs": [],
   "source": []
  }
 ],
 "metadata": {
  "kernelspec": {
   "display_name": "Python 3",
   "language": "python",
   "name": "python3"
  },
  "language_info": {
   "codemirror_mode": {
    "name": "ipython",
    "version": 3
   },
   "file_extension": ".py",
   "mimetype": "text/x-python",
   "name": "python",
   "nbconvert_exporter": "python",
   "pygments_lexer": "ipython3",
   "version": "3.6.9"
  }
 },
 "nbformat": 4,
 "nbformat_minor": 4
}
